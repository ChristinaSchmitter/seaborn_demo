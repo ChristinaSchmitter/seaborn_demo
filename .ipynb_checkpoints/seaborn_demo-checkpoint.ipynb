{
 "cells": [
  {
   "cell_type": "markdown",
   "metadata": {},
   "source": [
    "# Plotting with Seaborn"
   ]
  },
  {
   "cell_type": "markdown",
   "metadata": {},
   "source": [
    "Graph galleries: \\\n",
    "https://seaborn.pydata.org/examples/index.html \\\n",
    "https://www.python-graph-gallery.com/ \\\n",
    "https://plotly.com/python/\n",
    "\n",
    "Getting started with Python/Anaconda and Jupyter notebook: \\\n",
    "https://docs.anaconda.com/anaconda/user-guide/getting-started/ \\\n",
    "https://docs.jupyter.org/en/latest/start/index.html"
   ]
  },
  {
   "cell_type": "markdown",
   "metadata": {},
   "source": [
    " "
   ]
  },
  {
   "cell_type": "markdown",
   "metadata": {},
   "source": [
    "## Load packages and import data"
   ]
  },
  {
   "cell_type": "code",
   "execution_count": null,
   "metadata": {},
   "outputs": [],
   "source": [
    "import pandas as pd\n",
    "import seaborn as sns\n",
    "import matplotlib.pyplot as plt\n",
    "import numpy as np\n",
    "import functions_seaborn_demo as func"
   ]
  },
  {
   "cell_type": "code",
   "execution_count": null,
   "metadata": {
    "scrolled": true
   },
   "outputs": [],
   "source": [
    "group_stats = pd.read_excel('data/group_stats.xlsx')\n",
    "group_stats.head()"
   ]
  },
  {
   "cell_type": "markdown",
   "metadata": {},
   "source": [
    " "
   ]
  },
  {
   "cell_type": "markdown",
   "metadata": {},
   "source": [
    " "
   ]
  },
  {
   "cell_type": "markdown",
   "metadata": {},
   "source": [
    "## Plotting with categorical data"
   ]
  },
  {
   "cell_type": "markdown",
   "metadata": {},
   "source": [
    "https://seaborn.pydata.org/generated/seaborn.catplot.html"
   ]
  },
  {
   "cell_type": "code",
   "execution_count": null,
   "metadata": {
    "scrolled": false
   },
   "outputs": [],
   "source": [
    "sns.set_style(\"whitegrid\") # set the style of the plot (e.g., whitegrid, darkgrid, white, dark, ticks)\n",
    "\n",
    "sns.set_context(\"paper\", font_scale = 1.75) # set the context of the plot (e.g., paper, notebook, talk, poster)\n",
    "\n",
    "\n",
    "plot = sns.catplot(data = group_stats,  # dataset that is used for plotting\n",
    "                   x = 'movement_type', # categorical variable\n",
    "                   y = 'thresholds',    # dependent variable\n",
    "                   kind = 'bar',        # kind of plot; options: bar, violin, box, boxen, strip, swarm, point\n",
    "                   height = 6,          # size of the plot\n",
    "                   )"
   ]
  },
  {
   "cell_type": "markdown",
   "metadata": {},
   "source": [
    " "
   ]
  },
  {
   "cell_type": "markdown",
   "metadata": {},
   "source": [
    "### Defining colors"
   ]
  },
  {
   "cell_type": "markdown",
   "metadata": {},
   "source": [
    "https://seaborn.pydata.org/tutorial/color_palettes.html \\\n",
    "https://matplotlib.org/stable/gallery/color/named_colors.html"
   ]
  },
  {
   "cell_type": "code",
   "execution_count": null,
   "metadata": {},
   "outputs": [],
   "source": [
    "palette = sns.choose_colorbrewer_palette('diverging') # sequential, qualitative\n",
    "# palette = sns.choose_light_palette()\n",
    "# palette = sns.choose_dark_palette()\n",
    "# palette = sns.choose_diverging_palette()"
   ]
  },
  {
   "cell_type": "code",
   "execution_count": null,
   "metadata": {},
   "outputs": [],
   "source": [
    "sns.set_style(\"whitegrid\") \n",
    "sns.set_context(\"paper\", font_scale = 1.75) \n",
    "\n",
    "plot = sns.catplot(data = group_stats,  \n",
    "                   x = 'movement_type', \n",
    "                   y = 'thresholds',    \n",
    "                   kind = 'bar',        \n",
    "                   height = 6, \n",
    "                   palette = palette,\n",
    "                   # palette = 'crest',   # using a predifined color palette\n",
    "                   # palette = {'Active': 'b', 'Passive': 'r'}, # defining colors manually\n",
    "                  )"
   ]
  },
  {
   "cell_type": "markdown",
   "metadata": {},
   "source": [
    " "
   ]
  },
  {
   "cell_type": "markdown",
   "metadata": {},
   "source": [
    "### Finetuning"
   ]
  },
  {
   "cell_type": "markdown",
   "metadata": {},
   "source": [
    "https://matplotlib.org/stable/api/pyplot_summary.html"
   ]
  },
  {
   "cell_type": "code",
   "execution_count": null,
   "metadata": {},
   "outputs": [],
   "source": [
    "sns.set_style(\"whitegrid\") \n",
    "sns.set_context(\"paper\", font_scale = 1.75) \n",
    "\n",
    "plot = sns.catplot(data = group_stats,  \n",
    "                   x = 'movement_type', \n",
    "                   y = 'thresholds',    \n",
    "                   kind = 'bar',        \n",
    "                   height = 6,          \n",
    "                   palette = 'crest',   \n",
    "                   order = ['Passive', 'Active'], # defining the order of conditions\n",
    "                   estimator = np.mean,           # defining the statistical funcion to plot (e.g., np.median, np.var)\n",
    "                  )\n",
    "\n",
    "# plt.ylabel('Threshold [ms]')  \n",
    "# plt.xlabel('Movement type')\n",
    "# plt.title('Active vs. Passive', fontsize = 20, weight = 'bold')\n",
    "# plt.savefig('plots/catplot.png')\n",
    "# plt.show() "
   ]
  },
  {
   "cell_type": "markdown",
   "metadata": {},
   "source": [
    " "
   ]
  },
  {
   "cell_type": "markdown",
   "metadata": {},
   "source": [
    "### Adding a second categorical variable"
   ]
  },
  {
   "cell_type": "code",
   "execution_count": null,
   "metadata": {},
   "outputs": [],
   "source": [
    "sns.set_style(\"whitegrid\") \n",
    "sns.set_context(\"paper\", font_scale = 1.75) \n",
    "\n",
    "plot = sns.catplot(data = group_stats,  \n",
    "                   x = 'movement_type', \n",
    "                   y = 'thresholds',    \n",
    "                   hue = 'adaptation_delay', # additional categorical variable                   \n",
    "                   kind = 'bar',  \n",
    "                   height = 6,          \n",
    "                   palette = 'crest',                   \n",
    "                   # hue_order = ['150 ms', '0 ms'],\n",
    "                   # legend_out = False,                   \n",
    "                  )   \n",
    "\n",
    "plot._legend.set_title('Adaptation delay') \n",
    "plt.ylabel('Threshold [ms]')  \n",
    "plt.xlabel('Movement type')   \n",
    "plt.show()                    "
   ]
  },
  {
   "cell_type": "markdown",
   "metadata": {},
   "source": [
    " "
   ]
  },
  {
   "cell_type": "markdown",
   "metadata": {},
   "source": [
    "### Adding a third categorical variable"
   ]
  },
  {
   "cell_type": "code",
   "execution_count": null,
   "metadata": {},
   "outputs": [],
   "source": [
    "sns.set_style(\"whitegrid\") \n",
    "sns.set_context(\"paper\", font_scale = 1.75)\n",
    "\n",
    "plot = sns.catplot(data = group_stats,  \n",
    "                   x = 'movement_type', \n",
    "                   y = 'thresholds',    \n",
    "                   hue = 'adaptation_delay',  \n",
    "                   col = 'test_modality',    # third categorical variable\n",
    "                   kind = 'bar',        \n",
    "                   height = 6,          \n",
    "                   palette = 'crest',\n",
    "\n",
    "                   # sharey = False,        # plots an individual y axis for each column\n",
    "                   # col_order = ['Auditory', 'Visual'],\n",
    "                   )   \n",
    "            \n",
    "plot._legend.set_title('Adaptation delay') \n",
    "plot.axes.flat[0].set_ylabel('Threshold [ms]')\n",
    "for axis in range(2): plot.axes.flat[axis].set_xlabel('Movement type') \n",
    "\n",
    "plot.set_titles(\"{col_name}\", size = 20)\n",
    "plt.suptitle('Visual vs. Auditory', x = 0.475, y = 1.1, weight = 'bold')\n",
    "\n",
    "plt.show()                    "
   ]
  },
  {
   "cell_type": "markdown",
   "metadata": {},
   "source": [
    " "
   ]
  },
  {
   "cell_type": "markdown",
   "metadata": {},
   "source": [
    " "
   ]
  },
  {
   "cell_type": "markdown",
   "metadata": {},
   "source": [
    "## Different plot types for categorical data & Subplot structure"
   ]
  },
  {
   "cell_type": "markdown",
   "metadata": {},
   "source": [
    "https://matplotlib.org/stable/api/_as_gen/matplotlib.pyplot.subplots.html"
   ]
  },
  {
   "cell_type": "markdown",
   "metadata": {},
   "source": [
    "### Categorical estimate plots"
   ]
  },
  {
   "cell_type": "markdown",
   "metadata": {},
   "source": [
    "https://seaborn.pydata.org/generated/seaborn.barplot.html \\\n",
    "https://seaborn.pydata.org/generated/seaborn.pointplot.html"
   ]
  },
  {
   "cell_type": "code",
   "execution_count": null,
   "metadata": {
    "scrolled": false
   },
   "outputs": [],
   "source": [
    "# Definition of figure properties\n",
    "#    - fig: overall figure\n",
    "#    - axes: individual plots within the figure\n",
    "\n",
    "fig, axes = plt.subplots(1,                 # number of rows\n",
    "                         2,                 # number of columns (e.g., 2 plots next to each other)\n",
    "                         figsize = (15, 6), # size of the figure (x/y)\n",
    "                         sharey = False)\n",
    "\n",
    "# First plot\n",
    "sns.barplot(ax = axes[0],  # define position of the plot within the figure\n",
    "            data = group_stats, \n",
    "            x = 'movement_type', \n",
    "            y = 'thresholds', \n",
    "            palette = 'crest')\n",
    "axes[0].set_title('Barplot', fontsize = 20)\n",
    "\n",
    "\n",
    "# Second plot\n",
    "sns.pointplot(ax = axes[1], # define position of the plot within the figure\n",
    "              data = group_stats, \n",
    "              x = 'movement_type', \n",
    "              y = 'thresholds')\n",
    "axes[1].set_title('Pointplot', fontsize = 20)\n",
    "\n",
    "\n",
    "for axis in range(2): axes[axis].set_xlabel('Movement type')\n",
    "for axis in range(2): axes[axis].set_ylabel('Threshold [ms]') \n",
    "plt.tight_layout() # makes sure individual subplots are not overlapping\n",
    "plt.show()  "
   ]
  },
  {
   "cell_type": "markdown",
   "metadata": {},
   "source": [
    " "
   ]
  },
  {
   "cell_type": "markdown",
   "metadata": {},
   "source": [
    "### Categorical distribution plots"
   ]
  },
  {
   "cell_type": "markdown",
   "metadata": {},
   "source": [
    "https://seaborn.pydata.org/generated/seaborn.boxplot.html \\\n",
    "https://seaborn.pydata.org/generated/seaborn.boxenplot.html \\\n",
    "https://seaborn.pydata.org/generated/seaborn.violinplot.html"
   ]
  },
  {
   "cell_type": "code",
   "execution_count": null,
   "metadata": {
    "scrolled": false
   },
   "outputs": [],
   "source": [
    "fig, axes = plt.subplots(1, 3, figsize = (15, 5), sharey = True)\n",
    "\n",
    "# First plot\n",
    "sns.boxplot(ax = axes[0], data = group_stats, x = 'movement_type', y = 'thresholds', palette = 'crest')\n",
    "axes[0].set_title('Boxplot', fontsize = 20)\n",
    "\n",
    "# Second plot\n",
    "sns.boxenplot(ax = axes[1], data = group_stats, x = 'movement_type', y = 'thresholds', palette = 'crest')\n",
    "axes[1].set_title('Boxenplot', fontsize = 20)\n",
    "\n",
    "# Third plot\n",
    "sns.violinplot(ax = axes[2], data = group_stats, x = 'movement_type', y = 'thresholds', palette = 'crest')\n",
    "axes[2].set_title('Violinplot', fontsize = 20)\n",
    "\n",
    "for axis in range(3): axes[axis].set_xlabel('Movement type')\n",
    "for axis in range(3): axes[axis].set_ylabel('Threshold [ms]')\n",
    "plt.tight_layout()\n",
    "plt.show()  "
   ]
  },
  {
   "cell_type": "markdown",
   "metadata": {},
   "source": [
    " "
   ]
  },
  {
   "cell_type": "markdown",
   "metadata": {},
   "source": [
    "### Categorical scatterplots"
   ]
  },
  {
   "cell_type": "markdown",
   "metadata": {},
   "source": [
    "https://seaborn.pydata.org/generated/seaborn.stripplot.html \\\n",
    "https://seaborn.pydata.org/generated/seaborn.swarmplot.html"
   ]
  },
  {
   "cell_type": "code",
   "execution_count": null,
   "metadata": {},
   "outputs": [],
   "source": [
    "fig, axes = plt.subplots(1, 2, figsize = (15, 6), sharey = False)\n",
    "\n",
    "sns.stripplot(ax = axes[0], data = group_stats, x = 'movement_type', y = 'thresholds', palette = 'crest')\n",
    "axes[0].set_title('Stripplot', fontsize = 20)\n",
    "\n",
    "sns.swarmplot(ax = axes[1], data = group_stats, x = 'movement_type', y = 'thresholds', palette = 'crest')\n",
    "axes[1].set_title('Swarmplot', fontsize = 20)\n",
    "\n",
    "for axis in range(2): axes[axis].set_xlabel('Movement type')\n",
    "for axis in range(2): axes[axis].set_ylabel('Threshold [ms]')\n",
    "plt.tight_layout()\n",
    "plt.show()              \n"
   ]
  },
  {
   "cell_type": "markdown",
   "metadata": {},
   "source": [
    " "
   ]
  },
  {
   "cell_type": "markdown",
   "metadata": {},
   "source": [
    "### Combining plots"
   ]
  },
  {
   "cell_type": "code",
   "execution_count": null,
   "metadata": {},
   "outputs": [],
   "source": [
    "plt.figure(figsize = (8,5))\n",
    "\n",
    "# First plot\n",
    "sns.boxplot(data = group_stats, \n",
    "            x = 'movement_type', \n",
    "            y = 'thresholds', \n",
    "            palette = 'crest')\n",
    "\n",
    "# Second plot\n",
    "sns.stripplot(data = group_stats, \n",
    "              x = 'movement_type', \n",
    "              y = 'thresholds',\n",
    "              color = 'black',\n",
    "              size = 3)\n",
    "\n",
    "plt.ylabel('Threshold [ms]')  \n",
    "plt.xlabel('Movement type')\n",
    "\n",
    "plt.show()  "
   ]
  },
  {
   "cell_type": "markdown",
   "metadata": {},
   "source": [
    " "
   ]
  },
  {
   "cell_type": "markdown",
   "metadata": {},
   "source": [
    " "
   ]
  },
  {
   "cell_type": "markdown",
   "metadata": {},
   "source": [
    "## Visualizing distributions of data"
   ]
  },
  {
   "cell_type": "code",
   "execution_count": null,
   "metadata": {},
   "outputs": [],
   "source": [
    "trial_data = pd.read_excel('data/single_trial_data.xlsx')\n",
    "data_to_plot = trial_data[trial_data['movement_type'] == 'Active']\n",
    "data_to_plot.head()"
   ]
  },
  {
   "cell_type": "markdown",
   "metadata": {},
   "source": [
    " "
   ]
  },
  {
   "cell_type": "markdown",
   "metadata": {},
   "source": [
    "### Histogram"
   ]
  },
  {
   "cell_type": "markdown",
   "metadata": {},
   "source": [
    "https://seaborn.pydata.org/generated/seaborn.displot.html#seaborn.displot"
   ]
  },
  {
   "cell_type": "code",
   "execution_count": null,
   "metadata": {},
   "outputs": [],
   "source": [
    "sns.set_style(\"white\") \n",
    "sns.set_context(\"paper\", font_scale = 1.75)\n",
    "\n",
    "plot = sns.displot(data = data_to_plot, \n",
    "                   x = \"movement_durations\", \n",
    "                   binwidth = 10)\n",
    "\n",
    "plt.xlabel('Movement durations [ms]')\n",
    "plt.show()"
   ]
  },
  {
   "cell_type": "code",
   "execution_count": null,
   "metadata": {},
   "outputs": [],
   "source": [
    "sns.set_style(\"white\") \n",
    "sns.set_context(\"paper\", font_scale = 1.75)\n",
    "\n",
    "plot = sns.displot(data = data_to_plot, \n",
    "                   x = \"movement_durations\",\n",
    "                   hue = 'test_modality',  \n",
    "                   binwidth = 10)\n",
    "\n",
    "plot._legend.set_title('Test modality') \n",
    "plt.xlabel('Movement durations [ms]')\n",
    "plt.show()"
   ]
  },
  {
   "cell_type": "markdown",
   "metadata": {},
   "source": [
    " "
   ]
  },
  {
   "cell_type": "markdown",
   "metadata": {},
   "source": [
    "### Kernel density estimate (KDE) plot"
   ]
  },
  {
   "cell_type": "code",
   "execution_count": null,
   "metadata": {},
   "outputs": [],
   "source": [
    "sns.set_style(\"white\") \n",
    "sns.set_context(\"paper\", font_scale = 1.75)\n",
    "\n",
    "plot = sns.displot(data = data_to_plot, \n",
    "                   x = \"movement_durations\", \n",
    "                   kind = 'kde', \n",
    "                   height = 6,\n",
    "                   bw_adjust = 0.5) # the higher the smoother the curve\n",
    "\n",
    "plt.xlabel('Movement durations [ms]')\n",
    "plt.show()"
   ]
  },
  {
   "cell_type": "markdown",
   "metadata": {},
   "source": [
    " "
   ]
  },
  {
   "cell_type": "markdown",
   "metadata": {},
   "source": [
    "## Visualizing statistical relationships"
   ]
  },
  {
   "cell_type": "markdown",
   "metadata": {},
   "source": [
    "### Scatter plot"
   ]
  },
  {
   "cell_type": "markdown",
   "metadata": {},
   "source": [
    "https://seaborn.pydata.org/generated/seaborn.relplot.html"
   ]
  },
  {
   "cell_type": "code",
   "execution_count": null,
   "metadata": {},
   "outputs": [],
   "source": [
    "sns.set_style(\"white\") \n",
    "sns.set_context(\"paper\", font_scale = 1.75)\n",
    "\n",
    "plot = sns.relplot(data = group_stats,\n",
    "                   x = 'thresholds', \n",
    "                   y = 'slopes', \n",
    "                   kind = 'scatter');\n",
    "\n",
    "plot.figure.set_size_inches(8, 5)\n",
    "plt.xlabel('Threshold [ms]') \n",
    "plt.ylabel('Slope')\n",
    "plt.show()"
   ]
  },
  {
   "cell_type": "markdown",
   "metadata": {},
   "source": [
    " "
   ]
  },
  {
   "cell_type": "markdown",
   "metadata": {},
   "source": [
    "### Scatterplot with linear regression model fit"
   ]
  },
  {
   "cell_type": "markdown",
   "metadata": {},
   "source": [
    "https://seaborn.pydata.org/generated/seaborn.regplot.html"
   ]
  },
  {
   "cell_type": "code",
   "execution_count": null,
   "metadata": {},
   "outputs": [],
   "source": [
    "sns.set_style(\"white\") \n",
    "sns.set_context(\"paper\", font_scale = 1.75)\n",
    "\n",
    "plot = sns.regplot(data = group_stats,\n",
    "                   x = \"thresholds\", \n",
    "                   y = \"slopes\", \n",
    "                  # marker = '*',\n",
    "                  )\n",
    "\n",
    "plot.figure.set_size_inches(8, 5)\n",
    "plt.xlabel('Threshold [ms]')\n",
    "plt.ylabel('Slope')\n",
    "plt.show()"
   ]
  },
  {
   "cell_type": "markdown",
   "metadata": {},
   "source": [
    " "
   ]
  },
  {
   "cell_type": "markdown",
   "metadata": {},
   "source": [
    "### Jointplot"
   ]
  },
  {
   "cell_type": "markdown",
   "metadata": {},
   "source": [
    "https://seaborn.pydata.org/generated/seaborn.jointplot.html"
   ]
  },
  {
   "cell_type": "code",
   "execution_count": null,
   "metadata": {},
   "outputs": [],
   "source": [
    "sns.set_style(\"white\") \n",
    "sns.set_context(\"paper\", font_scale = 1.75)\n",
    "\n",
    "plot = sns.jointplot(data = group_stats,\n",
    "                     x = \"thresholds\", \n",
    "                     y = \"slopes\",\n",
    "                     kind = \"reg\", \n",
    "                     height = 7,\n",
    "                     marginal_kws = dict(bins = 25, fill = True))\n",
    "\n",
    "plot.set_axis_labels('Threshold [ms]', 'Slope', fontsize=16)\n",
    "plt.show()"
   ]
  },
  {
   "cell_type": "code",
   "execution_count": null,
   "metadata": {},
   "outputs": [],
   "source": [
    "sns.set_style(\"white\") \n",
    "sns.set_context(\"paper\", font_scale = 1.75)\n",
    "\n",
    "plot = sns.jointplot(data = group_stats,\n",
    "                     x = \"thresholds\", \n",
    "                     y = \"slopes\",\n",
    "                     kind = \"scatter\",\n",
    "                     hue = 'test_modality',\n",
    "                     height = 7)\n",
    "\n",
    "handles, labels = plot.ax_joint.get_legend_handles_labels()\n",
    "plot.ax_joint.legend(handles = handles, labels = labels, title = 'Test modality')\n",
    "plot.set_axis_labels('Threshold [ms]', 'Slope', fontsize=16)\n",
    "plt.show()"
   ]
  },
  {
   "cell_type": "markdown",
   "metadata": {},
   "source": [
    " "
   ]
  },
  {
   "cell_type": "markdown",
   "metadata": {},
   "source": [
    "## Plotting time courses"
   ]
  },
  {
   "cell_type": "markdown",
   "metadata": {},
   "source": [
    "https://seaborn.pydata.org/generated/seaborn.lineplot.html"
   ]
  },
  {
   "cell_type": "code",
   "execution_count": null,
   "metadata": {},
   "outputs": [],
   "source": [
    "plotting_data = trial_data[(trial_data['run'] == 1) & (trial_data['adaptation_modality'] == 'Auditory')]"
   ]
  },
  {
   "cell_type": "code",
   "execution_count": null,
   "metadata": {},
   "outputs": [],
   "source": [
    "plt.figure(figsize = (8,5))\n",
    "sns.set_style(\"white\") \n",
    "sns.set_context(\"paper\", font_scale = 1.75)\n",
    "\n",
    "sns.lineplot(data = plotting_data,\n",
    "             x = 'trial', \n",
    "             y = 'movement_durations')\n",
    "\n",
    "plt.xlabel('Trial number')\n",
    "plt.ylabel('Movement durations [ms]')\n",
    "plt.show()"
   ]
  },
  {
   "cell_type": "code",
   "execution_count": null,
   "metadata": {},
   "outputs": [],
   "source": [
    "plt.figure(figsize = (8,5))\n",
    "sns.set_style(\"white\") \n",
    "sns.set_context(\"paper\", font_scale = 1.75)\n",
    "\n",
    "sns.lineplot(data = plotting_data,\n",
    "             x = 'trial', \n",
    "             y = 'movement_durations', \n",
    "             hue = 'movement_type',\n",
    "             palette = 'crest',\n",
    "             )\n",
    "\n",
    "plt.legend(bbox_to_anchor = (1.3 ,1), title = 'Test modality')\n",
    "plt.xlabel('Trial number')\n",
    "plt.ylabel('Movement durations [ms]')\n",
    "plt.show()"
   ]
  },
  {
   "cell_type": "markdown",
   "metadata": {},
   "source": [
    " "
   ]
  },
  {
   "cell_type": "markdown",
   "metadata": {},
   "source": [
    "## FacetGrid"
   ]
  },
  {
   "cell_type": "markdown",
   "metadata": {},
   "source": [
    "https://seaborn.pydata.org/tutorial/axis_grids.html"
   ]
  },
  {
   "cell_type": "code",
   "execution_count": null,
   "metadata": {},
   "outputs": [],
   "source": [
    "sns.set_style(\"white\") \n",
    "sns.set_context(\"paper\", font_scale = 1.75)\n",
    "\n",
    "# Defining the grid\n",
    "grid = sns.FacetGrid(data = group_stats,\n",
    "                     col = 'participant',\n",
    "                     col_wrap = 4,\n",
    "                     height = 4,\n",
    "                     # sharey = False,\n",
    "                     )\n",
    "\n",
    "# Mapping plots onto the grid\n",
    "grid.map(sns.barplot, \"movement_type\", \"thresholds\", order = ['Active', 'Passive'], palette = 'crest')\n",
    "grid.set(ylabel = 'Thresholds [ms]', xlabel = 'Movement type')"
   ]
  },
  {
   "cell_type": "markdown",
   "metadata": {},
   "source": [
    " "
   ]
  },
  {
   "cell_type": "code",
   "execution_count": null,
   "metadata": {},
   "outputs": [],
   "source": [
    "sns.set_style(\"white\") \n",
    "sns.set_context(\"paper\", font_scale = 1.75)\n",
    "\n",
    "grid = sns.FacetGrid(data = group_stats, \n",
    "                     row = 'test_modality',  \n",
    "                     col = 'movement_type', \n",
    "                     height = 5,\n",
    "                     margin_titles = True,\n",
    "                     )\n",
    "grid.map(sns.regplot, 'thresholds', 'slopes', fit_reg = True)\n",
    "grid.set(ylabel = 'Slope', xlabel = 'Threshold [ms]')"
   ]
  },
  {
   "cell_type": "markdown",
   "metadata": {},
   "source": [
    " "
   ]
  },
  {
   "cell_type": "markdown",
   "metadata": {},
   "source": [
    "## Error bars"
   ]
  },
  {
   "cell_type": "code",
   "execution_count": null,
   "metadata": {},
   "outputs": [],
   "source": [
    "sns.set_style(\"whitegrid\") \n",
    "sns.set_context(\"paper\", font_scale = 1.75) \n",
    "\n",
    "plot = sns.catplot(data = group_stats,  \n",
    "                   x = 'movement_type', \n",
    "                   y = 'thresholds',\n",
    "                   hue = 'adaptation_delay',\n",
    "                   kind = 'bar',        \n",
    "                   height = 6,          \n",
    "                   palette = 'crest',   \n",
    "                   ci = 95 # default: 95; alternative: sd\n",
    "                  )\n",
    "\n",
    "plot._legend.set_title('Adaptation delay') \n",
    "plt.ylabel('Threshold [ms]')  \n",
    "plt.xlabel('Movement type')\n",
    "\n",
    "# Add sem as error bars\n",
    "# func.plot_sem(plot, data = group_stats, x = 'movement_type', y = 'thresholds', hue = 'adaptation_delay')\n",
    "\n",
    "plt.show() "
   ]
  },
  {
   "cell_type": "markdown",
   "metadata": {},
   "source": [
    " "
   ]
  },
  {
   "cell_type": "markdown",
   "metadata": {},
   "source": [
    "## Adding statistical annotations"
   ]
  },
  {
   "cell_type": "code",
   "execution_count": null,
   "metadata": {},
   "outputs": [],
   "source": [
    "sns.set_style(\"whitegrid\") \n",
    "sns.set_context(\"paper\", font_scale = 1.75) \n",
    "\n",
    "plot = sns.catplot(data = group_stats,  \n",
    "                   x = 'movement_type', \n",
    "                   y = 'thresholds',\n",
    "                   hue = 'adaptation_delay',\n",
    "                   kind = 'bar',               \n",
    "                   height = 6,          \n",
    "                   palette = 'crest',   \n",
    "                   ci = 68 \n",
    "                  )\n",
    "\n",
    "plot._legend.set_title('Adaptation delay') \n",
    "plt.ylabel('Threshold [ms]')  \n",
    "plt.xlabel('Movement type')\n",
    "\n",
    "# Add statistical annotation\n",
    "comp_pairs = [[('Active','0 ms'),('Active','150 ms')]]\n",
    "pvalues    = [[0.01]] \n",
    "func.statistical_annotation(plot, 'bar', group_stats, comp_pairs, pvalues, \n",
    "                            x = 'movement_type', y = 'thresholds', hue = 'adaptation_delay')\n",
    "\n",
    "plt.show() "
   ]
  },
  {
   "cell_type": "markdown",
   "metadata": {},
   "source": [
    " "
   ]
  }
 ],
 "metadata": {
  "hide_input": false,
  "kernelspec": {
   "display_name": "Python 3 (ipykernel)",
   "language": "python",
   "name": "python3"
  },
  "language_info": {
   "codemirror_mode": {
    "name": "ipython",
    "version": 3
   },
   "file_extension": ".py",
   "mimetype": "text/x-python",
   "name": "python",
   "nbconvert_exporter": "python",
   "pygments_lexer": "ipython3",
   "version": "3.8.5"
  },
  "varInspector": {
   "cols": {
    "lenName": 16,
    "lenType": 16,
    "lenVar": 40
   },
   "kernels_config": {
    "python": {
     "delete_cmd_postfix": "",
     "delete_cmd_prefix": "del ",
     "library": "var_list.py",
     "varRefreshCmd": "print(var_dic_list())"
    },
    "r": {
     "delete_cmd_postfix": ") ",
     "delete_cmd_prefix": "rm(",
     "library": "var_list.r",
     "varRefreshCmd": "cat(var_dic_list()) "
    }
   },
   "types_to_exclude": [
    "module",
    "function",
    "builtin_function_or_method",
    "instance",
    "_Feature"
   ],
   "window_display": false
  }
 },
 "nbformat": 4,
 "nbformat_minor": 4
}
