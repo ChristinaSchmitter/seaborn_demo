{
 "cells": [
  {
   "cell_type": "markdown",
   "metadata": {},
   "source": [
    "# Plotting with Seaborn"
   ]
  },
  {
   "cell_type": "markdown",
   "metadata": {},
   "source": [
    "Graph galleries: \\\n",
    "https://seaborn.pydata.org/examples/index.html \\\n",
    "https://www.python-graph-gallery.com/ \\\n",
    "https://plotly.com/python/\n",
    "\n",
    "Getting started with Python/Anaconda and Jupyter notebook: \\\n",
    "https://docs.anaconda.com/anaconda/user-guide/getting-started/ \\\n",
    "https://docs.jupyter.org/en/latest/start/index.html"
   ]
  },
  {
   "cell_type": "markdown",
   "metadata": {},
   "source": [
    " "
   ]
  },
  {
   "cell_type": "markdown",
   "metadata": {},
   "source": [
    "## Load packages and import data"
   ]
  },
  {
   "cell_type": "code",
   "execution_count": null,
   "metadata": {},
   "outputs": [],
   "source": [
    "import pandas as pd\n",
    "import seaborn as sns\n",
    "import matplotlib.pyplot as plt\n",
    "import numpy as np\n",
    "import functions_seaborn_demo as func"
   ]
  },
  {
   "cell_type": "code",
   "execution_count": null,
   "metadata": {
    "scrolled": true
   },
   "outputs": [],
   "source": [
    "group_stats = pd.read_excel('data/group_stats.xlsx')\n",
    "group_stats.head()"
   ]
  },
  {
   "cell_type": "markdown",
   "metadata": {},
   "source": [
    " "
   ]
  },
  {
   "cell_type": "markdown",
   "metadata": {},
   "source": [
    " "
   ]
  },
  {
   "cell_type": "markdown",
   "metadata": {},
   "source": [
    "## Plotting with categorical data"
   ]
  },
  {
   "cell_type": "markdown",
   "metadata": {},
   "source": [
    "https://seaborn.pydata.org/generated/seaborn.catplot.html"
   ]
  },
  {
   "cell_type": "code",
   "execution_count": null,
   "metadata": {
    "scrolled": false
   },
   "outputs": [],
   "source": [
    "sns.set_style(\"whitegrid\")                   # set the style of the plot (e.g., whitegrid, darkgrid, white, dark)\n",
    "sns.set_context(\"paper\", font_scale = 1.75)  # set the context of the plot (e.g., paper, notebook, talk, poster)\n",
    "\n",
    "\n",
    "plot = sns.catplot(data   = group_stats,     # dataset that is used for plotting\n",
    "                   x      = 'movement_type', # categorical variable\n",
    "                   y      = 'thresholds',    # dependent variable\n",
    "                   kind   = 'bar',           # kind of plot; options: bar, violin, box, boxen, strip, swarm, point\n",
    "                   height = 6,               # size of the plot\n",
    "                   )"
   ]
  },
  {
   "cell_type": "markdown",
   "metadata": {},
   "source": [
    " "
   ]
  },
  {
   "cell_type": "markdown",
   "metadata": {},
   "source": [
    "### Defining colors"
   ]
  },
  {
   "cell_type": "markdown",
   "metadata": {},
   "source": [
    "https://seaborn.pydata.org/tutorial/color_palettes.html \\\n",
    "https://matplotlib.org/stable/gallery/color/named_colors.html"
   ]
  },
  {
   "cell_type": "code",
   "execution_count": null,
   "metadata": {},
   "outputs": [],
   "source": [
    "custom_palette = sns.choose_colorbrewer_palette('diverging') # options: sequential, qualitative\n",
    "# custom_palette = sns.choose_light_palette()\n",
    "# custom_palette = sns.choose_dark_palette()\n",
    "# custom_palette = sns.choose_diverging_palette()"
   ]
  },
  {
   "cell_type": "code",
   "execution_count": null,
   "metadata": {},
   "outputs": [],
   "source": [
    "sns.set_style(\"whitegrid\") \n",
    "sns.set_context(\"paper\", font_scale = 1.75) \n",
    "\n",
    "plot = sns.catplot(data    = group_stats,  \n",
    "                   x       = 'movement_type', \n",
    "                   y       = 'thresholds',    \n",
    "                   kind    = 'bar',        \n",
    "                   height  = 6, \n",
    "                   palette = custom_palette,\n",
    "                   # palette = 'crest', # using a predifined color palette\n",
    "                   # palette = {'Active': 'tab:blue', 'Passive': 'tab:green'}, # defining colors manually\n",
    "                   )"
   ]
  },
  {
   "cell_type": "markdown",
   "metadata": {},
   "source": [
    " "
   ]
  },
  {
   "cell_type": "markdown",
   "metadata": {},
   "source": [
    "### Finetuning"
   ]
  },
  {
   "cell_type": "code",
   "execution_count": null,
   "metadata": {
    "scrolled": false
   },
   "outputs": [],
   "source": [
    "sns.set_style(\"whitegrid\") \n",
    "sns.set_context(\"paper\", font_scale = 1.75) \n",
    "\n",
    "plot = sns.catplot(data      = group_stats,  \n",
    "                   x         = 'movement_type', \n",
    "                   y         = 'thresholds',    \n",
    "                   kind      = 'bar',        \n",
    "                   height    = 6,          \n",
    "                   palette   = 'crest',                   \n",
    "                   order     = ['Passive', 'Active'], # defining the order of conditions\n",
    "                   estimator = np.mean,  # defining the statistical funcion to plot (e.g., np.median, np.var)\n",
    "                   )\n",
    "\n",
    "# Defining axis labels and title\n",
    "# plot.set(xlabel = 'Movement type', ylabel = 'Threshold [ms]')\n",
    "# plt.title('Active vs. Passive', weight = 'bold', fontsize = 20, y = 1.05)\n",
    "\n",
    "# Saving the figure\n",
    "# plot.savefig('plots/catplot.png')"
   ]
  },
  {
   "cell_type": "markdown",
   "metadata": {},
   "source": [
    " "
   ]
  },
  {
   "cell_type": "markdown",
   "metadata": {},
   "source": [
    "### Adding a second categorical variable"
   ]
  },
  {
   "cell_type": "code",
   "execution_count": null,
   "metadata": {},
   "outputs": [],
   "source": [
    "sns.set_style(\"whitegrid\") \n",
    "sns.set_context(\"paper\", font_scale = 1.75) \n",
    "\n",
    "plot = sns.catplot(data       = group_stats,  \n",
    "                   x          = 'movement_type', \n",
    "                   y          = 'thresholds',    \n",
    "                   hue        = 'adaptation_delay', # additional categorical variable                   \n",
    "                   kind       = 'bar',  \n",
    "                   height     = 6,          \n",
    "                   palette    = 'crest',                  \n",
    "                   hue_order  = ['0 ms', '150 ms'], # defining the order of conditions\n",
    "                   legend_out = True,               # defining position of legend               \n",
    "                   )   \n",
    "\n",
    "# Defining axis labels and title of legend\n",
    "plot.set(xlabel = 'Movement type', ylabel = 'Threshold [ms]')\n",
    "plot._legend.set_title('Adaptation delay')                "
   ]
  },
  {
   "cell_type": "markdown",
   "metadata": {},
   "source": [
    " "
   ]
  },
  {
   "cell_type": "markdown",
   "metadata": {},
   "source": [
    "### Adding a third categorical variable"
   ]
  },
  {
   "cell_type": "code",
   "execution_count": null,
   "metadata": {},
   "outputs": [],
   "source": [
    "sns.set_style(\"whitegrid\") \n",
    "sns.set_context(\"paper\", font_scale = 1.75)\n",
    "\n",
    "plot = sns.catplot(data      = group_stats,  \n",
    "                   x         = 'movement_type', \n",
    "                   y         = 'thresholds',    \n",
    "                   hue       = 'adaptation_delay',  \n",
    "                   col       = 'test_modality',        # third categorical variable\n",
    "                   kind      = 'bar',        \n",
    "                   height    = 6,          \n",
    "                   palette   = 'crest',\n",
    "                   col_order = ['Auditory', 'Visual'], # defining the order of conditions\n",
    "                   sharey    = True,                   # shared y axis for both columns                 \n",
    "                   )   \n",
    "\n",
    "# Defining axis labels and title of legend\n",
    "plot.set(xlabel = 'Movement type', ylabel = 'Threshold [ms]')\n",
    "plot._legend.set_title('Adaptation delay') \n",
    "\n",
    "# Defining title of columns and figure\n",
    "plot.set_titles(\"{col_name}\", size = 20)\n",
    "plt.suptitle('Visual vs. Auditory', x = 0.475, y = 1.1, weight = 'bold')  \n",
    "\n",
    "plt.show()"
   ]
  },
  {
   "cell_type": "markdown",
   "metadata": {},
   "source": [
    " "
   ]
  },
  {
   "cell_type": "markdown",
   "metadata": {},
   "source": [
    " "
   ]
  },
  {
   "cell_type": "markdown",
   "metadata": {},
   "source": [
    "## Different plot types for categorical data & Subplot structure"
   ]
  },
  {
   "cell_type": "markdown",
   "metadata": {},
   "source": [
    "### Categorical estimate plots"
   ]
  },
  {
   "cell_type": "markdown",
   "metadata": {},
   "source": [
    "https://seaborn.pydata.org/generated/seaborn.barplot.html \\\n",
    "https://seaborn.pydata.org/generated/seaborn.pointplot.html"
   ]
  },
  {
   "cell_type": "code",
   "execution_count": null,
   "metadata": {
    "scrolled": false
   },
   "outputs": [],
   "source": [
    "# Definition of figure properties\n",
    "\n",
    "fig, sub_fig = plt.subplots(nrows   = 1,       # number of rows\n",
    "                            ncols   = 2,       # number of columns (e.g., 2 plots next to each other)\n",
    "                            figsize = (15, 6), # size of the figure (x/y)\n",
    "                            sharey  = False)\n",
    "\n",
    "\n",
    "# First plot\n",
    "sns.barplot(ax      = sub_fig[0], # define position of the plot within the figure\n",
    "            data    = group_stats, \n",
    "            x       = 'movement_type', \n",
    "            y       = 'thresholds', \n",
    "            palette = 'crest')\n",
    "sub_fig[0].set_title('Barplot', fontsize = 20)\n",
    "\n",
    "\n",
    "\n",
    "# Second plot\n",
    "sns.pointplot(ax   = sub_fig[1], # define position of the plot within the figure\n",
    "              data = group_stats, \n",
    "              x    = 'movement_type', \n",
    "              y    = 'thresholds')\n",
    "sub_fig[1].set_title('Pointplot', fontsize = 20)\n",
    "\n",
    "\n",
    "\n",
    "# Define axis labels for both subplots\n",
    "for f in range(len(sub_fig)): \n",
    "    sub_fig[f].set_xlabel('Movement type')\n",
    "    sub_fig[f].set_ylabel('Threshold [ms]') \n",
    "\n",
    "plt.tight_layout() # automatic optimal scaling\n",
    "plt.show()  "
   ]
  },
  {
   "cell_type": "markdown",
   "metadata": {},
   "source": [
    " "
   ]
  },
  {
   "cell_type": "markdown",
   "metadata": {},
   "source": [
    "### Categorical distribution plots"
   ]
  },
  {
   "cell_type": "markdown",
   "metadata": {},
   "source": [
    "https://seaborn.pydata.org/generated/seaborn.boxplot.html \\\n",
    "https://seaborn.pydata.org/generated/seaborn.boxenplot.html \\\n",
    "https://seaborn.pydata.org/generated/seaborn.violinplot.html"
   ]
  },
  {
   "cell_type": "code",
   "execution_count": null,
   "metadata": {
    "scrolled": false
   },
   "outputs": [],
   "source": [
    "fig, sub_fig = plt.subplots(1, 3, figsize = (15, 5), sharey = True)\n",
    "\n",
    "\n",
    "# First plot\n",
    "sns.boxplot(ax = sub_fig[0], data = group_stats, x = 'movement_type', y = 'thresholds', palette = 'crest')\n",
    "sub_fig[0].set_title('Boxplot', fontsize = 20)\n",
    "\n",
    "# Second plot\n",
    "sns.boxenplot(ax = sub_fig[1], data = group_stats, x = 'movement_type', y = 'thresholds', palette = 'crest')\n",
    "sub_fig[1].set_title('Boxenplot', fontsize = 20)\n",
    "\n",
    "# Third plot\n",
    "sns.violinplot(ax = sub_fig[2], data = group_stats, x = 'movement_type', y = 'thresholds', palette = 'crest')\n",
    "sub_fig[2].set_title('Violinplot', fontsize = 20)\n",
    "\n",
    "\n",
    "# Define axis labels for both subplots\n",
    "for f in range(len(sub_fig)): \n",
    "    sub_fig[f].set_xlabel('Movement type')\n",
    "    sub_fig[f].set_ylabel('Threshold [ms]')\n",
    "\n",
    "plt.tight_layout()\n",
    "plt.show()  "
   ]
  },
  {
   "cell_type": "markdown",
   "metadata": {},
   "source": [
    " "
   ]
  },
  {
   "cell_type": "markdown",
   "metadata": {},
   "source": [
    "### Categorical scatterplots"
   ]
  },
  {
   "cell_type": "markdown",
   "metadata": {},
   "source": [
    "https://seaborn.pydata.org/generated/seaborn.stripplot.html \\\n",
    "https://seaborn.pydata.org/generated/seaborn.swarmplot.html"
   ]
  },
  {
   "cell_type": "code",
   "execution_count": null,
   "metadata": {},
   "outputs": [],
   "source": [
    "fig, sub_fig = plt.subplots(1, 2, figsize = (15, 6), sharey = False)\n",
    "\n",
    "\n",
    "# First plot\n",
    "sns.stripplot(ax = sub_fig[0], data = group_stats, x = 'movement_type', y = 'thresholds', palette = 'crest')\n",
    "sub_fig[0].set_title('Stripplot', fontsize = 20)\n",
    "\n",
    "# Second plot\n",
    "sns.swarmplot(ax = sub_fig[1], data = group_stats, x = 'movement_type', y = 'thresholds', palette = 'crest')\n",
    "sub_fig[1].set_title('Swarmplot', fontsize = 20)\n",
    "\n",
    "\n",
    "# Define axis labels for both subplots\n",
    "for f in range(len(sub_fig)): \n",
    "    sub_fig[f].set_xlabel('Movement type')\n",
    "    sub_fig[f].set_ylabel('Threshold [ms]')\n",
    "    \n",
    "plt.tight_layout()\n",
    "plt.show()              "
   ]
  },
  {
   "cell_type": "markdown",
   "metadata": {},
   "source": [
    " "
   ]
  },
  {
   "cell_type": "markdown",
   "metadata": {},
   "source": [
    "### Combining plots"
   ]
  },
  {
   "cell_type": "code",
   "execution_count": null,
   "metadata": {},
   "outputs": [],
   "source": [
    "plt.figure(figsize = (8, 5))\n",
    "\n",
    "# First plot\n",
    "sns.boxplot(data    = group_stats, \n",
    "            x       = 'movement_type', \n",
    "            y       = 'thresholds', \n",
    "            palette = 'crest')\n",
    "\n",
    "# Second plot\n",
    "sns.stripplot(data  = group_stats, \n",
    "              x     = 'movement_type', \n",
    "              y     = 'thresholds',\n",
    "              color = 'black',\n",
    "              size  = 3,\n",
    "              jitter = 0.05)\n",
    "\n",
    "plt.ylabel('Threshold [ms]')  \n",
    "plt.xlabel('Movement type')\n",
    "plt.show()"
   ]
  },
  {
   "cell_type": "markdown",
   "metadata": {},
   "source": [
    " "
   ]
  },
  {
   "cell_type": "markdown",
   "metadata": {},
   "source": [
    " "
   ]
  },
  {
   "cell_type": "markdown",
   "metadata": {},
   "source": [
    "## Visualizing distributions of data"
   ]
  },
  {
   "cell_type": "code",
   "execution_count": null,
   "metadata": {},
   "outputs": [],
   "source": [
    "trial_data = pd.read_excel('data/single_trial_data.xlsx')\n",
    "distr_data = trial_data[trial_data['movement_type'] == 'Active']\n",
    "distr_data.head()"
   ]
  },
  {
   "cell_type": "markdown",
   "metadata": {},
   "source": [
    " "
   ]
  },
  {
   "cell_type": "markdown",
   "metadata": {},
   "source": [
    "### Histogram"
   ]
  },
  {
   "cell_type": "markdown",
   "metadata": {},
   "source": [
    "https://seaborn.pydata.org/generated/seaborn.displot.html#seaborn.displot"
   ]
  },
  {
   "cell_type": "code",
   "execution_count": null,
   "metadata": {},
   "outputs": [],
   "source": [
    "sns.set_style(\"white\") \n",
    "sns.set_context(\"paper\", font_scale = 1.75)\n",
    "\n",
    "plot = sns.displot(data     = distr_data, \n",
    "                   x        = \"movement_durations\", \n",
    "                   binwidth = 10)\n",
    "\n",
    "plot.set(xlabel = 'Movement durations [ms]')\n",
    "plt.show()"
   ]
  },
  {
   "cell_type": "code",
   "execution_count": null,
   "metadata": {},
   "outputs": [],
   "source": [
    "sns.set_style(\"white\") \n",
    "sns.set_context(\"paper\", font_scale = 1.75)\n",
    "\n",
    "plot = sns.displot(data     = distr_data, \n",
    "                   x        = \"movement_durations\",\n",
    "                   hue      = 'test_modality',  \n",
    "                   binwidth = 10)\n",
    "\n",
    "plot.set(xlabel = 'Movement durations [ms]')\n",
    "plot._legend.set_title('Test modality') \n",
    "plt.show()"
   ]
  },
  {
   "cell_type": "markdown",
   "metadata": {},
   "source": [
    " "
   ]
  },
  {
   "cell_type": "markdown",
   "metadata": {},
   "source": [
    "### Kernel density estimate (KDE) plot"
   ]
  },
  {
   "cell_type": "code",
   "execution_count": null,
   "metadata": {},
   "outputs": [],
   "source": [
    "sns.set_style(\"white\") \n",
    "sns.set_context(\"paper\", font_scale = 1.75)\n",
    "\n",
    "plot = sns.displot(data      = distr_data, \n",
    "                   x         = \"movement_durations\", \n",
    "                   kind      = 'kde', \n",
    "                   height    = 6,\n",
    "                   bw_adjust = 0.5) # the higher the smoother the curve\n",
    "\n",
    "plot.set(xlabel = 'Movement durations [ms]')\n",
    "plt.show()"
   ]
  },
  {
   "cell_type": "markdown",
   "metadata": {},
   "source": [
    " "
   ]
  },
  {
   "cell_type": "markdown",
   "metadata": {},
   "source": [
    "## Visualizing statistical relationships"
   ]
  },
  {
   "cell_type": "markdown",
   "metadata": {},
   "source": [
    "### Scatter plot"
   ]
  },
  {
   "cell_type": "markdown",
   "metadata": {},
   "source": [
    "https://seaborn.pydata.org/generated/seaborn.relplot.html"
   ]
  },
  {
   "cell_type": "code",
   "execution_count": null,
   "metadata": {},
   "outputs": [],
   "source": [
    "sns.set_style(\"white\") \n",
    "sns.set_context(\"paper\", font_scale = 1.75)\n",
    "\n",
    "plot = sns.relplot(data = group_stats,\n",
    "                   x    = 'thresholds', \n",
    "                   y    = 'slopes', \n",
    "                   kind = 'scatter');\n",
    "\n",
    "plot.figure.set_size_inches(8, 5)\n",
    "plot.set(xlabel = 'Threshold [ms]', ylabel = 'Slope')\n",
    "plt.show()"
   ]
  },
  {
   "cell_type": "markdown",
   "metadata": {},
   "source": [
    " "
   ]
  },
  {
   "cell_type": "markdown",
   "metadata": {},
   "source": [
    "### Scatterplot with linear regression model fit"
   ]
  },
  {
   "cell_type": "markdown",
   "metadata": {},
   "source": [
    "https://seaborn.pydata.org/generated/seaborn.regplot.html"
   ]
  },
  {
   "cell_type": "code",
   "execution_count": null,
   "metadata": {},
   "outputs": [],
   "source": [
    "sns.set_style(\"white\") \n",
    "sns.set_context(\"paper\", font_scale = 1.75)\n",
    "\n",
    "plot = sns.regplot(data = group_stats,\n",
    "                   x    = \"thresholds\", \n",
    "                   y    = \"slopes\")\n",
    "\n",
    "plot.figure.set_size_inches(8, 5)\n",
    "plot.set(xlabel = 'Threshold [ms]', ylabel = 'Slope')\n",
    "plt.show()"
   ]
  },
  {
   "cell_type": "markdown",
   "metadata": {},
   "source": [
    " "
   ]
  },
  {
   "cell_type": "markdown",
   "metadata": {},
   "source": [
    "### Jointplot"
   ]
  },
  {
   "cell_type": "markdown",
   "metadata": {},
   "source": [
    "https://seaborn.pydata.org/generated/seaborn.jointplot.html"
   ]
  },
  {
   "cell_type": "code",
   "execution_count": null,
   "metadata": {},
   "outputs": [],
   "source": [
    "sns.set_style(\"white\") \n",
    "sns.set_context(\"paper\", font_scale = 1.75)\n",
    "\n",
    "plot = sns.jointplot(data         = group_stats,\n",
    "                     x            = \"thresholds\", \n",
    "                     y            = \"slopes\",\n",
    "                     kind         = \"reg\", \n",
    "                     height       = 7,\n",
    "                     marginal_kws = dict(bins = 25, fill = True))\n",
    "\n",
    "plot.set_axis_labels('Threshold [ms]', 'Slope', fontsize = 16)\n",
    "plt.show()"
   ]
  },
  {
   "cell_type": "code",
   "execution_count": null,
   "metadata": {},
   "outputs": [],
   "source": [
    "sns.set_style(\"white\") \n",
    "sns.set_context(\"paper\", font_scale = 1.75)\n",
    "\n",
    "plot = sns.jointplot(data   = group_stats,\n",
    "                     x      = \"thresholds\", \n",
    "                     y      = \"slopes\",\n",
    "                     hue    = 'test_modality',\n",
    "                     kind   = \"scatter\",\n",
    "                     height = 7)\n",
    "\n",
    "plot.set_axis_labels('Threshold [ms]', 'Slope', fontsize = 16)\n",
    "plot.ax_joint.legend(title = 'Test modality')\n",
    "plt.show()"
   ]
  },
  {
   "cell_type": "markdown",
   "metadata": {},
   "source": [
    " "
   ]
  },
  {
   "cell_type": "markdown",
   "metadata": {},
   "source": [
    "## Plotting time courses"
   ]
  },
  {
   "cell_type": "markdown",
   "metadata": {},
   "source": [
    "https://seaborn.pydata.org/generated/seaborn.lineplot.html"
   ]
  },
  {
   "cell_type": "code",
   "execution_count": null,
   "metadata": {},
   "outputs": [],
   "source": [
    "time_data = trial_data[(trial_data['run'] == 1) & (trial_data['adaptation_modality'] == 'Auditory')]"
   ]
  },
  {
   "cell_type": "code",
   "execution_count": null,
   "metadata": {},
   "outputs": [],
   "source": [
    "sns.set_style(\"white\") \n",
    "sns.set_context(\"paper\", font_scale = 1.75)\n",
    "\n",
    "plot = sns.lineplot(data = time_data,\n",
    "                    x    = 'trial', \n",
    "                    y    = 'movement_durations')\n",
    "\n",
    "plot.figure.set_size_inches(8, 5)\n",
    "plot.set(xlabel = 'Trial number', ylabel = 'Movement durations [ms]')\n",
    "plt.show()"
   ]
  },
  {
   "cell_type": "code",
   "execution_count": null,
   "metadata": {},
   "outputs": [],
   "source": [
    "plt.figure(figsize = (8,5))\n",
    "sns.set_style(\"white\") \n",
    "sns.set_context(\"paper\", font_scale = 1.75)\n",
    "\n",
    "plot = sns.lineplot(data    = time_data,\n",
    "                    x       = 'trial', \n",
    "                    y       = 'movement_durations', \n",
    "                    hue     = 'movement_type',\n",
    "                    palette = 'crest',\n",
    "                    )\n",
    "\n",
    "plot.set(xlabel = 'Trial number', ylabel = 'Movement durations [ms]')\n",
    "plt.legend(bbox_to_anchor = (1.3 ,1), title = 'Test modality')\n",
    "plt.show()"
   ]
  },
  {
   "cell_type": "markdown",
   "metadata": {},
   "source": [
    " "
   ]
  },
  {
   "cell_type": "markdown",
   "metadata": {},
   "source": [
    "## FacetGrid"
   ]
  },
  {
   "cell_type": "markdown",
   "metadata": {},
   "source": [
    "https://seaborn.pydata.org/tutorial/axis_grids.html"
   ]
  },
  {
   "cell_type": "code",
   "execution_count": null,
   "metadata": {},
   "outputs": [],
   "source": [
    "sns.set_style(\"white\") \n",
    "sns.set_context(\"paper\", font_scale = 1.75)\n",
    "\n",
    "# Defining the grid\n",
    "grid = sns.FacetGrid(data     = group_stats,\n",
    "                     col      = 'participant',\n",
    "                     col_wrap = 4,\n",
    "                     height   = 4,\n",
    "                     sharey   = True,\n",
    "                     )\n",
    "\n",
    "\n",
    "# Mapping plots onto the grid\n",
    "grid.map(sns.barplot, \"movement_type\", \"thresholds\", order   = ['Active', 'Passive'], palette = 'crest')\n",
    "\n",
    "grid.set(ylabel = 'Thresholds [ms]', xlabel = 'Movement type')\n",
    "plt.show()"
   ]
  },
  {
   "cell_type": "markdown",
   "metadata": {},
   "source": [
    " "
   ]
  },
  {
   "cell_type": "code",
   "execution_count": null,
   "metadata": {},
   "outputs": [],
   "source": [
    "sns.set_style(\"white\") \n",
    "sns.set_context(\"paper\", font_scale = 1.75)\n",
    "\n",
    "# Defining the grid\n",
    "grid = sns.FacetGrid(data          = group_stats, \n",
    "                     row           = 'test_modality',  \n",
    "                     col           = 'movement_type', \n",
    "                     height        = 5,\n",
    "                     margin_titles = True,\n",
    "                     )\n",
    "\n",
    "\n",
    "# Mapping plots onto the grid\n",
    "grid.map(sns.regplot, 'thresholds', 'slopes', fit_reg = True)\n",
    "\n",
    "grid.set(ylabel = 'Slope', xlabel = 'Threshold [ms]')\n",
    "plt.show()"
   ]
  },
  {
   "cell_type": "markdown",
   "metadata": {},
   "source": [
    " "
   ]
  },
  {
   "cell_type": "markdown",
   "metadata": {},
   "source": [
    "## Error bars"
   ]
  },
  {
   "cell_type": "code",
   "execution_count": null,
   "metadata": {},
   "outputs": [],
   "source": [
    "sns.set_style(\"whitegrid\") \n",
    "sns.set_context(\"paper\", font_scale = 1.75) \n",
    "\n",
    "plot = sns.catplot(data    = group_stats,  \n",
    "                   x       = 'movement_type', \n",
    "                   y       = 'thresholds',\n",
    "                   hue     = 'adaptation_delay',\n",
    "                   kind    = 'bar',        \n",
    "                   height  = 6,          \n",
    "                   palette = 'crest',   \n",
    "                   ci      = 95 # default: 95; alternative: sd\n",
    "                  )\n",
    "\n",
    "plot.set(xlabel = 'Movement type', ylabel = 'Threshold [ms]')\n",
    "plot._legend.set_title('Adaptation delay') \n",
    "\n",
    "# Add sem as error bars\n",
    "# func.plot_sem(plot, data = group_stats, x = 'movement_type', y = 'thresholds', hue = 'adaptation_delay')\n",
    "\n",
    "plt.show() "
   ]
  },
  {
   "cell_type": "markdown",
   "metadata": {},
   "source": [
    " "
   ]
  },
  {
   "cell_type": "markdown",
   "metadata": {},
   "source": [
    "## Adding statistical annotations"
   ]
  },
  {
   "cell_type": "code",
   "execution_count": null,
   "metadata": {},
   "outputs": [],
   "source": [
    "sns.set_style(\"whitegrid\") \n",
    "sns.set_context(\"paper\", font_scale = 1.75) \n",
    "\n",
    "plot = sns.catplot(data    = group_stats,  \n",
    "                   x       = 'movement_type', \n",
    "                   y       = 'thresholds',\n",
    "                   hue     = 'adaptation_delay',\n",
    "                   kind    = 'bar',               \n",
    "                   height  = 6,          \n",
    "                   palette = 'crest',   \n",
    "                   ci      = 68 \n",
    "                  )\n",
    "\n",
    "plot.set(xlabel = 'Movement type', ylabel = 'Threshold [ms]')\n",
    "plot._legend.set_title('Adaptation delay') \n",
    "\n",
    "\n",
    "# Add statistical annotation\n",
    "# comp_pairs = [[('Active','0 ms'),('Active','150 ms')]]\n",
    "# pvalues    = [[0.01]] \n",
    "# func.statistical_annotation(plot, 'bar', group_stats, comp_pairs, pvalues, \n",
    "#                             x = 'movement_type', y = 'thresholds', hue = 'adaptation_delay')\n",
    "\n",
    "plt.show() "
   ]
  },
  {
   "cell_type": "markdown",
   "metadata": {},
   "source": [
    " "
   ]
  }
 ],
 "metadata": {
  "hide_input": false,
  "kernelspec": {
   "display_name": "Python 3 (ipykernel)",
   "language": "python",
   "name": "python3"
  },
  "language_info": {
   "codemirror_mode": {
    "name": "ipython",
    "version": 3
   },
   "file_extension": ".py",
   "mimetype": "text/x-python",
   "name": "python",
   "nbconvert_exporter": "python",
   "pygments_lexer": "ipython3",
   "version": "3.8.5"
  },
  "varInspector": {
   "cols": {
    "lenName": 16,
    "lenType": 16,
    "lenVar": 40
   },
   "kernels_config": {
    "python": {
     "delete_cmd_postfix": "",
     "delete_cmd_prefix": "del ",
     "library": "var_list.py",
     "varRefreshCmd": "print(var_dic_list())"
    },
    "r": {
     "delete_cmd_postfix": ") ",
     "delete_cmd_prefix": "rm(",
     "library": "var_list.r",
     "varRefreshCmd": "cat(var_dic_list()) "
    }
   },
   "types_to_exclude": [
    "module",
    "function",
    "builtin_function_or_method",
    "instance",
    "_Feature"
   ],
   "window_display": false
  }
 },
 "nbformat": 4,
 "nbformat_minor": 4
}
